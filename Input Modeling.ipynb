{
 "cells": [
  {
   "cell_type": "code",
   "execution_count": 7,
   "metadata": {},
   "outputs": [],
   "source": [
    "from statsmodels.graphics.tsaplots import plot_acf\n",
    "from scipy import stats\n",
    "from random import shuffle\n",
    "import matplotlib.pyplot as plt\n",
    "import numpy as np"
   ]
  },
  {
   "cell_type": "code",
   "execution_count": 8,
   "metadata": {},
   "outputs": [],
   "source": [
    "distributions = [\n",
    "    \"gamma\",\n",
    "    \"expon\",\n",
    "    \"lognorm\",\n",
    "    \"weibull_min\",  \n",
    "    \"weibull_max\",\n",
    "]"
   ]
  },
  {
   "cell_type": "code",
   "execution_count": 9,
   "metadata": {},
   "outputs": [
    {
     "name": "stdout",
     "output_type": "stream",
     "text": [
      "P Value: 0.2768825379652561\n"
     ]
    },
    {
     "data": {
      "image/png": "[encoded data removed]",
      "text/plain": [
       "<Figure size 432x288 with 1 Axes>"
      ]
     },
     "metadata": {
      "needs_background": "light"
     },
     "output_type": "display_data"
    }
   ],
   "source": [
    "data = np.loadtxt(\"data.txt\")\n",
    "x = np.array([i for i in range(len(data))])\n",
    "slope, intercept, r_value, p_value, std_err = stats.linregress(x, data)\n",
    "print(\"P Value:\",p_value)\n",
    "plt.plot(x, data, 'o', label='Original data')\n",
    "plt.plot(x, intercept + slope*x, 'r', label='Fitted line')\n",
    "plt.legend()\n",
    "plt.show()"
   ]
  },
  {
   "cell_type": "code",
   "execution_count": 10,
   "metadata": {},
   "outputs": [
    {
     "name": "stdout",
     "output_type": "stream",
     "text": [
      "Autocorrelation: [ 1.          0.86956522  0.74011858  0.61264822  0.48814229  0.36758893\n",
      "  0.25197628  0.14229249  0.03952569 -0.05533597 -0.14130435 -0.2173913\n",
      " -0.2826087  -0.33596838 -0.37648221 -0.40316206 -0.41501976 -0.41106719\n",
      " -0.39031621 -0.35177866 -0.2944664  -0.2173913  -0.11956522]\n"
     ]
    }
   ],
   "source": [
    "if(p_value>0.05):\n",
    "    r = (np.correlate(x-x.mean(),x-x.mean(), mode='full'))/(x.var()*len(x))\n",
    "    auto_cor = r[r.size//2:]\n",
    "    print(\"Autocorrelation:\",auto_cor)\n",
    "\n",
    "else:\n",
    "    print(\"P value is less than 0.05\")"
   ]
  },
  {
   "cell_type": "code",
   "execution_count": 11,
   "metadata": {},
   "outputs": [
    {
     "name": "stdout",
     "output_type": "stream",
     "text": [
      "RESULTS:\n",
      "\n",
      "gamma - 0.9466259040999688\n",
      "expon - 0.1767610631020464\n",
      "lognorm - 0.9655682669522782\n",
      "weibull_min - 0.908797329790544\n",
      "weibull_max - 4.9542836445592953e-17\n",
      "\n",
      "The distribution associated with the dataset is lognorm with p value 0.9655682669522782\n"
     ]
    },
    {
     "data": {
      "image/png": "[encoded data removed]",
      "text/plain": [
       "<Figure size 432x288 with 1 Axes>"
      ]
     },
     "metadata": {
      "needs_background": "light"
     },
     "output_type": "display_data"
    }
   ],
   "source": [
    "dist_results = []\n",
    "for dist_name in distributions:\n",
    "    dist = getattr(stats, dist_name)\n",
    "    param = dist.fit(data)\n",
    "    D, p = stats.kstest(data, dist_name, args=param);\n",
    "    dist_results.append((dist_name,p))\n",
    "aux_p = 0\n",
    "aux_dist = \"\"\n",
    "print(\"RESULTS:\\n\")\n",
    "for dist in dist_results:\n",
    "    print(dist[0]+\" - \"+str(dist[1]))\n",
    "    if(aux_p<dist[1]):\n",
    "        aux_p = dist[1]\n",
    "        aux_dist = dist[0]\n",
    "print(\"\\nThe distribution associated with the dataset is {0} with p value {1}\".format(aux_dist,aux_p))\n",
    "plot_acf(data)#grafica\n",
    "plt.show()"
   ]
  },
  {
   "cell_type": "code",
   "execution_count": null,
   "metadata": {},
   "outputs": [],
   "source": []
  }
 ],
 "metadata": {
  "kernelspec": {
   "display_name": "Python 3",
   "language": "python",
   "name": "python3"
  },
  "language_info": {
   "codemirror_mode": {
    "name": "ipython",
    "version": 3
   },
   "file_extension": ".py",
   "mimetype": "text/x-python",
   "name": "python",
   "nbconvert_exporter": "python",
   "pygments_lexer": "ipython3",
   "version": "3.7.1"
  }
 },
 "nbformat": 4,
 "nbformat_minor": 2
}
